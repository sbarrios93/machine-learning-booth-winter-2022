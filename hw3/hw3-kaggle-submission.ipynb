{
 "cells": [
  {
   "cell_type": "markdown",
   "metadata": {},
   "source": [
    "# Homework 3 - Kaggle Submission"
   ]
  },
  {
   "cell_type": "markdown",
   "metadata": {},
   "source": [
    "## Load packages and the data into `bike_train` and `bike_test`."
   ]
  },
  {
   "cell_type": "code",
   "execution_count": 4,
   "metadata": {},
   "outputs": [],
   "source": [
    "import pandas as pd\n",
    "import numpy as np\n",
    "import matplotlib.pyplot as plt\n",
    "from sklearn.preprocessing import StandardScaler, RobustScaler, PolynomialFeatures\n",
    "from sklearn.model_selection import GridSearchCV, train_test_split\n",
    "import xgboost as xgb\n",
    "from datetime import datetime\n",
    "import seaborn as sns\n",
    "\n",
    "def load_data(filename):\n",
    "    \"\"\"\n",
    "    Loads the data from the csv file.\n",
    "\n",
    "    :param filename: name of the csv file\n",
    "    :return: dataframe\n",
    "    \"\"\"\n",
    "    return pd.read_csv(filename)\n",
    "\n",
    "bike_train = load_data('Bike_train.csv')\n",
    "bike_test = load_data('Bike_test.csv')\n"
   ]
  },
  {
   "cell_type": "markdown",
   "metadata": {},
   "source": [
    "## Do some data exploration and data cleaning on `bike_training`.\n",
    "\n",
    "`bike_test` will have these same modifications but we will do it once the model is built. (This is a bit messy, but it's the fastest way to go for now.)"
   ]
  },
  {
   "cell_type": "code",
   "execution_count": 5,
   "metadata": {},
   "outputs": [],
   "source": [
    "# del humidity = 0\n",
    "bike_train = bike_train.loc[bike_train['humidity'] != 0, :]"
   ]
  },
  {
   "cell_type": "code",
   "execution_count": 6,
   "metadata": {},
   "outputs": [],
   "source": [
    "# add day of week column\n",
    "def get_weekday(row):\n",
    "    \"\"\"\n",
    "    Adds a new column of the day of week from the datetime column.\n",
    "\n",
    "    :param df: dataframe\n",
    "    :return: dataframe\n",
    "    \"\"\"\n",
    "    date_str = \"{}-{}-{}\".format(row[\"year\"].astype(int), row[\"month\"].astype(int), row[\"day\"].astype(int))\n",
    "    date = datetime.strptime(date_str, '%Y-%m-%d')\n",
    "    return date.isoweekday()\n",
    "\n",
    "\n",
    "bike_train[\"weekday\"] = bike_train.apply(get_weekday, axis=1)\n"
   ]
  },
  {
   "cell_type": "markdown",
   "metadata": {},
   "source": [
    "Let's see how the data looks like as of now"
   ]
  },
  {
   "cell_type": "code",
   "execution_count": 7,
   "metadata": {},
   "outputs": [
    {
     "name": "stdout",
     "output_type": "stream",
     "text": [
      "Index(['daylabel', 'year', 'month', 'day', 'hour', 'season', 'holiday',\n",
      "       'workingday', 'weather', 'temp', 'atemp', 'humidity', 'windspeed',\n",
      "       'count', 'weekday'],\n",
      "      dtype='object')\n"
     ]
    },
    {
     "data": {
      "text/html": [
       "<div>\n",
       "<style scoped>\n",
       "    .dataframe tbody tr th:only-of-type {\n",
       "        vertical-align: middle;\n",
       "    }\n",
       "\n",
       "    .dataframe tbody tr th {\n",
       "        vertical-align: top;\n",
       "    }\n",
       "\n",
       "    .dataframe thead th {\n",
       "        text-align: right;\n",
       "    }\n",
       "</style>\n",
       "<table border=\"1\" class=\"dataframe\">\n",
       "  <thead>\n",
       "    <tr style=\"text-align: right;\">\n",
       "      <th></th>\n",
       "      <th>daylabel</th>\n",
       "      <th>year</th>\n",
       "      <th>month</th>\n",
       "      <th>day</th>\n",
       "      <th>hour</th>\n",
       "      <th>season</th>\n",
       "      <th>holiday</th>\n",
       "      <th>workingday</th>\n",
       "      <th>weather</th>\n",
       "      <th>temp</th>\n",
       "      <th>atemp</th>\n",
       "      <th>humidity</th>\n",
       "      <th>windspeed</th>\n",
       "      <th>count</th>\n",
       "      <th>weekday</th>\n",
       "    </tr>\n",
       "  </thead>\n",
       "  <tbody>\n",
       "    <tr>\n",
       "      <th>0</th>\n",
       "      <td>1</td>\n",
       "      <td>2011</td>\n",
       "      <td>1</td>\n",
       "      <td>1</td>\n",
       "      <td>0</td>\n",
       "      <td>1</td>\n",
       "      <td>0</td>\n",
       "      <td>0</td>\n",
       "      <td>1.0</td>\n",
       "      <td>9.84</td>\n",
       "      <td>14.395</td>\n",
       "      <td>81.0</td>\n",
       "      <td>0.0</td>\n",
       "      <td>16</td>\n",
       "      <td>6</td>\n",
       "    </tr>\n",
       "    <tr>\n",
       "      <th>1</th>\n",
       "      <td>1</td>\n",
       "      <td>2011</td>\n",
       "      <td>1</td>\n",
       "      <td>1</td>\n",
       "      <td>1</td>\n",
       "      <td>1</td>\n",
       "      <td>0</td>\n",
       "      <td>0</td>\n",
       "      <td>1.0</td>\n",
       "      <td>9.02</td>\n",
       "      <td>13.635</td>\n",
       "      <td>80.0</td>\n",
       "      <td>0.0</td>\n",
       "      <td>40</td>\n",
       "      <td>6</td>\n",
       "    </tr>\n",
       "    <tr>\n",
       "      <th>2</th>\n",
       "      <td>1</td>\n",
       "      <td>2011</td>\n",
       "      <td>1</td>\n",
       "      <td>1</td>\n",
       "      <td>2</td>\n",
       "      <td>1</td>\n",
       "      <td>0</td>\n",
       "      <td>0</td>\n",
       "      <td>1.0</td>\n",
       "      <td>9.02</td>\n",
       "      <td>13.635</td>\n",
       "      <td>80.0</td>\n",
       "      <td>0.0</td>\n",
       "      <td>32</td>\n",
       "      <td>6</td>\n",
       "    </tr>\n",
       "    <tr>\n",
       "      <th>3</th>\n",
       "      <td>1</td>\n",
       "      <td>2011</td>\n",
       "      <td>1</td>\n",
       "      <td>1</td>\n",
       "      <td>3</td>\n",
       "      <td>1</td>\n",
       "      <td>0</td>\n",
       "      <td>0</td>\n",
       "      <td>1.0</td>\n",
       "      <td>9.84</td>\n",
       "      <td>14.395</td>\n",
       "      <td>75.0</td>\n",
       "      <td>0.0</td>\n",
       "      <td>13</td>\n",
       "      <td>6</td>\n",
       "    </tr>\n",
       "  </tbody>\n",
       "</table>\n",
       "</div>"
      ],
      "text/plain": [
       "   daylabel  year  month  day  hour  season  holiday  workingday  weather  \\\n",
       "0         1  2011      1    1     0       1        0           0      1.0   \n",
       "1         1  2011      1    1     1       1        0           0      1.0   \n",
       "2         1  2011      1    1     2       1        0           0      1.0   \n",
       "3         1  2011      1    1     3       1        0           0      1.0   \n",
       "\n",
       "   temp   atemp  humidity  windspeed  count  weekday  \n",
       "0  9.84  14.395      81.0        0.0     16        6  \n",
       "1  9.02  13.635      80.0        0.0     40        6  \n",
       "2  9.02  13.635      80.0        0.0     32        6  \n",
       "3  9.84  14.395      75.0        0.0     13        6  "
      ]
     },
     "execution_count": 7,
     "metadata": {},
     "output_type": "execute_result"
    }
   ],
   "source": [
    "print(bike_train.columns)\n",
    "\n",
    "bike_train.head(4)"
   ]
  },
  {
   "cell_type": "markdown",
   "metadata": {},
   "source": [
    "Bike train weather data has values with decimals ending in \".5\", which doesn't make sense\n"
   ]
  },
  {
   "cell_type": "code",
   "execution_count": 8,
   "metadata": {},
   "outputs": [
    {
     "data": {
      "text/html": [
       "<div>\n",
       "<style scoped>\n",
       "    .dataframe tbody tr th:only-of-type {\n",
       "        vertical-align: middle;\n",
       "    }\n",
       "\n",
       "    .dataframe tbody tr th {\n",
       "        vertical-align: top;\n",
       "    }\n",
       "\n",
       "    .dataframe thead th {\n",
       "        text-align: right;\n",
       "    }\n",
       "</style>\n",
       "<table border=\"1\" class=\"dataframe\">\n",
       "  <thead>\n",
       "    <tr style=\"text-align: right;\">\n",
       "      <th></th>\n",
       "      <th>daylabel</th>\n",
       "      <th>year</th>\n",
       "      <th>month</th>\n",
       "      <th>day</th>\n",
       "      <th>hour</th>\n",
       "      <th>season</th>\n",
       "      <th>holiday</th>\n",
       "      <th>workingday</th>\n",
       "      <th>weather</th>\n",
       "      <th>temp</th>\n",
       "      <th>atemp</th>\n",
       "      <th>humidity</th>\n",
       "      <th>windspeed</th>\n",
       "      <th>count</th>\n",
       "      <th>weekday</th>\n",
       "    </tr>\n",
       "  </thead>\n",
       "  <tbody>\n",
       "    <tr>\n",
       "      <th>29</th>\n",
       "      <td>2</td>\n",
       "      <td>2011</td>\n",
       "      <td>1</td>\n",
       "      <td>2</td>\n",
       "      <td>5</td>\n",
       "      <td>1</td>\n",
       "      <td>0</td>\n",
       "      <td>0</td>\n",
       "      <td>2.5</td>\n",
       "      <td>18.04</td>\n",
       "      <td>21.9675</td>\n",
       "      <td>85.5</td>\n",
       "      <td>16.49875</td>\n",
       "      <td>0</td>\n",
       "      <td>7</td>\n",
       "    </tr>\n",
       "    <tr>\n",
       "      <th>123</th>\n",
       "      <td>6</td>\n",
       "      <td>2011</td>\n",
       "      <td>1</td>\n",
       "      <td>6</td>\n",
       "      <td>3</td>\n",
       "      <td>1</td>\n",
       "      <td>0</td>\n",
       "      <td>1</td>\n",
       "      <td>1.5</td>\n",
       "      <td>6.56</td>\n",
       "      <td>10.6075</td>\n",
       "      <td>64.0</td>\n",
       "      <td>3.00160</td>\n",
       "      <td>0</td>\n",
       "      <td>4</td>\n",
       "    </tr>\n",
       "    <tr>\n",
       "      <th>364</th>\n",
       "      <td>32</td>\n",
       "      <td>2011</td>\n",
       "      <td>2</td>\n",
       "      <td>1</td>\n",
       "      <td>4</td>\n",
       "      <td>1</td>\n",
       "      <td>0</td>\n",
       "      <td>1</td>\n",
       "      <td>2.5</td>\n",
       "      <td>6.15</td>\n",
       "      <td>10.9850</td>\n",
       "      <td>81.0</td>\n",
       "      <td>0.00000</td>\n",
       "      <td>0</td>\n",
       "      <td>2</td>\n",
       "    </tr>\n",
       "    <tr>\n",
       "      <th>579</th>\n",
       "      <td>41</td>\n",
       "      <td>2011</td>\n",
       "      <td>2</td>\n",
       "      <td>10</td>\n",
       "      <td>3</td>\n",
       "      <td>1</td>\n",
       "      <td>0</td>\n",
       "      <td>1</td>\n",
       "      <td>2.5</td>\n",
       "      <td>5.74</td>\n",
       "      <td>7.1975</td>\n",
       "      <td>69.5</td>\n",
       "      <td>11.99970</td>\n",
       "      <td>0</td>\n",
       "      <td>4</td>\n",
       "    </tr>\n",
       "    <tr>\n",
       "      <th>964</th>\n",
       "      <td>70</td>\n",
       "      <td>2011</td>\n",
       "      <td>3</td>\n",
       "      <td>11</td>\n",
       "      <td>4</td>\n",
       "      <td>1</td>\n",
       "      <td>0</td>\n",
       "      <td>1</td>\n",
       "      <td>1.5</td>\n",
       "      <td>12.71</td>\n",
       "      <td>15.5300</td>\n",
       "      <td>87.0</td>\n",
       "      <td>10.50225</td>\n",
       "      <td>0</td>\n",
       "      <td>5</td>\n",
       "    </tr>\n",
       "    <tr>\n",
       "      <th>8726</th>\n",
       "      <td>47</td>\n",
       "      <td>2011</td>\n",
       "      <td>2</td>\n",
       "      <td>16</td>\n",
       "      <td>2</td>\n",
       "      <td>1</td>\n",
       "      <td>0</td>\n",
       "      <td>1</td>\n",
       "      <td>1.5</td>\n",
       "      <td>8.20</td>\n",
       "      <td>10.6075</td>\n",
       "      <td>45.5</td>\n",
       "      <td>9.50060</td>\n",
       "      <td>0</td>\n",
       "      <td>3</td>\n",
       "    </tr>\n",
       "    <tr>\n",
       "      <th>8822</th>\n",
       "      <td>75</td>\n",
       "      <td>2011</td>\n",
       "      <td>3</td>\n",
       "      <td>16</td>\n",
       "      <td>2</td>\n",
       "      <td>1</td>\n",
       "      <td>0</td>\n",
       "      <td>1</td>\n",
       "      <td>2.5</td>\n",
       "      <td>11.89</td>\n",
       "      <td>13.6350</td>\n",
       "      <td>100.0</td>\n",
       "      <td>17.50040</td>\n",
       "      <td>0</td>\n",
       "      <td>3</td>\n",
       "    </tr>\n",
       "    <tr>\n",
       "      <th>9567</th>\n",
       "      <td>292</td>\n",
       "      <td>2011</td>\n",
       "      <td>10</td>\n",
       "      <td>19</td>\n",
       "      <td>3</td>\n",
       "      <td>4</td>\n",
       "      <td>0</td>\n",
       "      <td>1</td>\n",
       "      <td>2.5</td>\n",
       "      <td>20.91</td>\n",
       "      <td>24.6200</td>\n",
       "      <td>85.5</td>\n",
       "      <td>12.99800</td>\n",
       "      <td>0</td>\n",
       "      <td>3</td>\n",
       "    </tr>\n",
       "  </tbody>\n",
       "</table>\n",
       "</div>"
      ],
      "text/plain": [
       "      daylabel  year  month  day  hour  season  holiday  workingday  weather  \\\n",
       "29           2  2011      1    2     5       1        0           0      2.5   \n",
       "123          6  2011      1    6     3       1        0           1      1.5   \n",
       "364         32  2011      2    1     4       1        0           1      2.5   \n",
       "579         41  2011      2   10     3       1        0           1      2.5   \n",
       "964         70  2011      3   11     4       1        0           1      1.5   \n",
       "8726        47  2011      2   16     2       1        0           1      1.5   \n",
       "8822        75  2011      3   16     2       1        0           1      2.5   \n",
       "9567       292  2011     10   19     3       4        0           1      2.5   \n",
       "\n",
       "       temp    atemp  humidity  windspeed  count  weekday  \n",
       "29    18.04  21.9675      85.5   16.49875      0        7  \n",
       "123    6.56  10.6075      64.0    3.00160      0        4  \n",
       "364    6.15  10.9850      81.0    0.00000      0        2  \n",
       "579    5.74   7.1975      69.5   11.99970      0        4  \n",
       "964   12.71  15.5300      87.0   10.50225      0        5  \n",
       "8726   8.20  10.6075      45.5    9.50060      0        3  \n",
       "8822  11.89  13.6350     100.0   17.50040      0        3  \n",
       "9567  20.91  24.6200      85.5   12.99800      0        3  "
      ]
     },
     "execution_count": 8,
     "metadata": {},
     "output_type": "execute_result"
    }
   ],
   "source": [
    "# Bike train weather data has values with decimals ending in \".5\", which doesn't make sense\n",
    "bike_train[bike_train['weather'].astype(str).str.contains('.5')]"
   ]
  },
  {
   "cell_type": "markdown",
   "metadata": {},
   "source": [
    "These are not much and test data doesn't have any of these weird values. I'm just going to drop them"
   ]
  },
  {
   "cell_type": "code",
   "execution_count": 9,
   "metadata": {},
   "outputs": [],
   "source": [
    "bike_train = bike_train[~bike_train['weather'].astype(str).str.contains('.5')]"
   ]
  },
  {
   "cell_type": "markdown",
   "metadata": {},
   "source": [
    "Split the data into X and Y in two different dataframes"
   ]
  },
  {
   "cell_type": "code",
   "execution_count": 10,
   "metadata": {},
   "outputs": [],
   "source": [
    "y_train = bike_train['count']\n",
    "X_train = bike_train.drop(['count'], axis=1)"
   ]
  },
  {
   "cell_type": "markdown",
   "metadata": {},
   "source": [
    "Here we are doing a bunch of different things\n",
    "\n",
    "1. Drop day column. After adding the day of the week {1,2,3,4,5,6,7} for {Monday, Tuesday, Wednesday, Thursday, Friday, Saturday, Sunday}, the `day` column is not useful anymore.\n",
    "   \n",
    "2. Make dummies for `year`, `month`, \"weekday\", `season`, `holiday`, `workingday`, `weather`. Here we are not dropping the first class for each dummy. (We know for linear regression that if we have for example a dummy for gender = male or female, we will only get 1 dummy variable where 1=female and 0=male, leaving `k-1` classes for each dummy . **In this case, for our dummies, we are actually leaving `k` classes**)\n",
    "   \n",
    "3. Scale the variables that are not dummy with `RobustScaler`, this is similar to normalizing the data, but performs better when there are outliers\n",
    "\n",
    "    More info here: https://scikit-learn.org/stable/modules/generated/sklearn.preprocessing.RobustScaler.html\n",
    "    ```\n",
    "    Scale features using statistics that are robust to outliers.\n",
    "\n",
    "    This Scaler removes the median and scales the data according to the quantile range (defaults to IQR: Interquartile Range). The IQR is the range between the 1st quartile (25th quantile) and the 3rd quartile (75th quantile).\n",
    "\n",
    "    Centering and scaling happen independently on each feature by computing the relevant statistics on the samples in the training set. Median and interquartile range are then stored to be used on later data using the transform method.\n",
    "\n",
    "    Standardization of a dataset is a common requirement for many machine learning estimators. Typically this is done by removing the mean and scaling to unit variance. However, outliers can often influence the sample mean / variance in a negative way. In such cases, the median and the interquartile range often give better results.```\n",
    "\n",
    "4. Create interactions for all the variables (2 degree polynomial features). **We went from 39 columns of features to 780 columns**"
   ]
  },
  {
   "cell_type": "code",
   "execution_count": 11,
   "metadata": {},
   "outputs": [],
   "source": [
    "## drop day column\n",
    "X_train = X_train.drop(['day'], axis=1)\n",
    "\n",
    "## dummies\n",
    "X_train_dummies = pd.get_dummies(X_train, columns=[\"year\", \"month\", \"weekday\", \"season\", \"holiday\", \"workingday\", \"weather\"])\n",
    "\n",
    "## scaling\n",
    "scaler = RobustScaler()\n",
    "scaler.fit(X_train_dummies.loc[:, [\"temp\", \"atemp\", \"humidity\", \"windspeed\"]])\n",
    "\n",
    "X_train_dummies.loc[:, [\"temp\", \"atemp\", \"humidity\", \"windspeed\"]] = scaler.transform(\n",
    "    X_train_dummies.loc[:, [\"temp\", \"atemp\", \"humidity\", \"windspeed\"]]\n",
    ")\n",
    "\n",
    "## interactions\n",
    "poly = PolynomialFeatures(degree=2, interaction_only=True, include_bias=False)\n",
    "X_train_dummies_poly = poly.fit_transform(X_train_dummies)"
   ]
  },
  {
   "cell_type": "markdown",
   "metadata": {},
   "source": [
    "I actually split the train data again to get a validation set. It wasn't really necessary to do this, because we are going to use cross validation later. The val set = 20% of the train set\n",
    "\n",
    "**Important step** = transform the target variable (y) to $\\log\\left( y_\\text{train} + 1 \\right)$\n",
    "\n",
    "\n",
    "Bad bad practice here: reusing variable names. YOLO"
   ]
  },
  {
   "cell_type": "code",
   "execution_count": 83,
   "metadata": {},
   "outputs": [],
   "source": [
    "# split data into train and val set\n",
    "X_train, X_val, y_train, y_val = train_test_split(X_train_dummies_poly, y_train, test_size=0.2, random_state=1706)\n",
    "\n",
    "y_train_log = np.log(y_train + 1)\n",
    "y_val_log = np.log(y_val + 1)"
   ]
  },
  {
   "cell_type": "markdown",
   "metadata": {},
   "source": [
    "# XGBOOST"
   ]
  },
  {
   "cell_type": "markdown",
   "metadata": {},
   "source": [
    "https://xgboost.readthedocs.io/en/stable/parameter.html"
   ]
  },
  {
   "cell_type": "markdown",
   "metadata": {},
   "source": [
    "#### Do GridSearchCV / hyperparameter optimization"
   ]
  },
  {
   "cell_type": "code",
   "execution_count": 17,
   "metadata": {},
   "outputs": [
    {
     "name": "stdout",
     "output_type": "stream",
     "text": [
      "Fitting 5 folds for each of 4 candidates, totalling 20 fits\n"
     ]
    },
    {
     "name": "stderr",
     "output_type": "stream",
     "text": [
      "/Users/seba/miniforge3/envs/booth-mlearning/lib/python3.9/site-packages/xgboost/compat.py:36: FutureWarning: pandas.Int64Index is deprecated and will be removed from pandas in a future version. Use pandas.Index with the appropriate dtype instead.\n",
      "  from pandas import MultiIndex, Int64Index\n",
      "/Users/seba/miniforge3/envs/booth-mlearning/lib/python3.9/site-packages/xgboost/compat.py:36: FutureWarning: pandas.Int64Index is deprecated and will be removed from pandas in a future version. Use pandas.Index with the appropriate dtype instead.\n",
      "  from pandas import MultiIndex, Int64Index\n",
      "/Users/seba/miniforge3/envs/booth-mlearning/lib/python3.9/site-packages/xgboost/compat.py:36: FutureWarning: pandas.Int64Index is deprecated and will be removed from pandas in a future version. Use pandas.Index with the appropriate dtype instead.\n",
      "  from pandas import MultiIndex, Int64Index\n",
      "/Users/seba/miniforge3/envs/booth-mlearning/lib/python3.9/site-packages/xgboost/compat.py:36: FutureWarning: pandas.Int64Index is deprecated and will be removed from pandas in a future version. Use pandas.Index with the appropriate dtype instead.\n",
      "  from pandas import MultiIndex, Int64Index\n",
      "/Users/seba/miniforge3/envs/booth-mlearning/lib/python3.9/site-packages/xgboost/compat.py:36: FutureWarning: pandas.Int64Index is deprecated and will be removed from pandas in a future version. Use pandas.Index with the appropriate dtype instead.\n",
      "  from pandas import MultiIndex, Int64Index\n",
      "/Users/seba/miniforge3/envs/booth-mlearning/lib/python3.9/site-packages/xgboost/compat.py:36: FutureWarning: pandas.Int64Index is deprecated and will be removed from pandas in a future version. Use pandas.Index with the appropriate dtype instead.\n",
      "  from pandas import MultiIndex, Int64Index\n",
      "/Users/seba/miniforge3/envs/booth-mlearning/lib/python3.9/site-packages/xgboost/compat.py:36: FutureWarning: pandas.Int64Index is deprecated and will be removed from pandas in a future version. Use pandas.Index with the appropriate dtype instead.\n",
      "  from pandas import MultiIndex, Int64Index\n",
      "/Users/seba/miniforge3/envs/booth-mlearning/lib/python3.9/site-packages/xgboost/compat.py:36: FutureWarning: pandas.Int64Index is deprecated and will be removed from pandas in a future version. Use pandas.Index with the appropriate dtype instead.\n",
      "  from pandas import MultiIndex, Int64Index\n",
      "/Users/seba/miniforge3/envs/booth-mlearning/lib/python3.9/site-packages/xgboost/compat.py:36: FutureWarning: pandas.Int64Index is deprecated and will be removed from pandas in a future version. Use pandas.Index with the appropriate dtype instead.\n",
      "  from pandas import MultiIndex, Int64Index\n",
      "/Users/seba/miniforge3/envs/booth-mlearning/lib/python3.9/site-packages/xgboost/compat.py:36: FutureWarning: pandas.Int64Index is deprecated and will be removed from pandas in a future version. Use pandas.Index with the appropriate dtype instead.\n",
      "  from pandas import MultiIndex, Int64Index\n",
      "/Users/seba/miniforge3/envs/booth-mlearning/lib/python3.9/site-packages/xgboost/data.py:262: FutureWarning: pandas.Int64Index is deprecated and will be removed from pandas in a future version. Use pandas.Index with the appropriate dtype instead.\n",
      "  elif isinstance(data.columns, (pd.Int64Index, pd.RangeIndex)):\n",
      "/Users/seba/miniforge3/envs/booth-mlearning/lib/python3.9/site-packages/xgboost/data.py:262: FutureWarning: pandas.Int64Index is deprecated and will be removed from pandas in a future version. Use pandas.Index with the appropriate dtype instead.\n",
      "  elif isinstance(data.columns, (pd.Int64Index, pd.RangeIndex)):\n",
      "/Users/seba/miniforge3/envs/booth-mlearning/lib/python3.9/site-packages/xgboost/data.py:262: FutureWarning: pandas.Int64Index is deprecated and will be removed from pandas in a future version. Use pandas.Index with the appropriate dtype instead.\n",
      "  elif isinstance(data.columns, (pd.Int64Index, pd.RangeIndex)):\n",
      "/Users/seba/miniforge3/envs/booth-mlearning/lib/python3.9/site-packages/xgboost/data.py:262: FutureWarning: pandas.Int64Index is deprecated and will be removed from pandas in a future version. Use pandas.Index with the appropriate dtype instead.\n",
      "  elif isinstance(data.columns, (pd.Int64Index, pd.RangeIndex)):\n",
      "/Users/seba/miniforge3/envs/booth-mlearning/lib/python3.9/site-packages/xgboost/data.py:262: FutureWarning: pandas.Int64Index is deprecated and will be removed from pandas in a future version. Use pandas.Index with the appropriate dtype instead.\n",
      "  elif isinstance(data.columns, (pd.Int64Index, pd.RangeIndex)):\n",
      "/Users/seba/miniforge3/envs/booth-mlearning/lib/python3.9/site-packages/xgboost/data.py:262: FutureWarning: pandas.Int64Index is deprecated and will be removed from pandas in a future version. Use pandas.Index with the appropriate dtype instead.\n",
      "  elif isinstance(data.columns, (pd.Int64Index, pd.RangeIndex)):\n",
      "/Users/seba/miniforge3/envs/booth-mlearning/lib/python3.9/site-packages/xgboost/data.py:262: FutureWarning: pandas.Int64Index is deprecated and will be removed from pandas in a future version. Use pandas.Index with the appropriate dtype instead.\n",
      "  elif isinstance(data.columns, (pd.Int64Index, pd.RangeIndex)):\n",
      "/Users/seba/miniforge3/envs/booth-mlearning/lib/python3.9/site-packages/xgboost/data.py:262: FutureWarning: pandas.Int64Index is deprecated and will be removed from pandas in a future version. Use pandas.Index with the appropriate dtype instead.\n",
      "  elif isinstance(data.columns, (pd.Int64Index, pd.RangeIndex)):\n",
      "/Users/seba/miniforge3/envs/booth-mlearning/lib/python3.9/site-packages/xgboost/data.py:262: FutureWarning: pandas.Int64Index is deprecated and will be removed from pandas in a future version. Use pandas.Index with the appropriate dtype instead.\n",
      "  elif isinstance(data.columns, (pd.Int64Index, pd.RangeIndex)):\n",
      "/Users/seba/miniforge3/envs/booth-mlearning/lib/python3.9/site-packages/xgboost/data.py:262: FutureWarning: pandas.Int64Index is deprecated and will be removed from pandas in a future version. Use pandas.Index with the appropriate dtype instead.\n",
      "  elif isinstance(data.columns, (pd.Int64Index, pd.RangeIndex)):\n"
     ]
    },
    {
     "name": "stdout",
     "output_type": "stream",
     "text": [
      "[CV 2/5] END colsample_bytree=0.3, gamma=0.1, learning_rate=0.05, max_depth=8, n_estimators=300;, score=-0.117 total time= 2.5min\n"
     ]
    },
    {
     "name": "stderr",
     "output_type": "stream",
     "text": [
      "/Users/seba/miniforge3/envs/booth-mlearning/lib/python3.9/site-packages/xgboost/data.py:262: FutureWarning: pandas.Int64Index is deprecated and will be removed from pandas in a future version. Use pandas.Index with the appropriate dtype instead.\n",
      "  elif isinstance(data.columns, (pd.Int64Index, pd.RangeIndex)):\n"
     ]
    },
    {
     "name": "stdout",
     "output_type": "stream",
     "text": [
      "[CV 3/5] END colsample_bytree=0.3, gamma=0.1, learning_rate=0.05, max_depth=8, n_estimators=300;, score=-0.115 total time= 2.5min\n",
      "[CV 1/5] END colsample_bytree=0.3, gamma=0.1, learning_rate=0.05, max_depth=8, n_estimators=300;, score=-0.120 total time= 2.5min\n"
     ]
    },
    {
     "name": "stderr",
     "output_type": "stream",
     "text": [
      "/Users/seba/miniforge3/envs/booth-mlearning/lib/python3.9/site-packages/xgboost/data.py:262: FutureWarning: pandas.Int64Index is deprecated and will be removed from pandas in a future version. Use pandas.Index with the appropriate dtype instead.\n",
      "  elif isinstance(data.columns, (pd.Int64Index, pd.RangeIndex)):\n",
      "/Users/seba/miniforge3/envs/booth-mlearning/lib/python3.9/site-packages/xgboost/data.py:262: FutureWarning: pandas.Int64Index is deprecated and will be removed from pandas in a future version. Use pandas.Index with the appropriate dtype instead.\n",
      "  elif isinstance(data.columns, (pd.Int64Index, pd.RangeIndex)):\n"
     ]
    },
    {
     "name": "stdout",
     "output_type": "stream",
     "text": [
      "[CV 5/5] END colsample_bytree=0.3, gamma=0.1, learning_rate=0.05, max_depth=8, n_estimators=300;, score=-0.115 total time= 2.5min\n"
     ]
    },
    {
     "name": "stderr",
     "output_type": "stream",
     "text": [
      "/Users/seba/miniforge3/envs/booth-mlearning/lib/python3.9/site-packages/xgboost/data.py:262: FutureWarning: pandas.Int64Index is deprecated and will be removed from pandas in a future version. Use pandas.Index with the appropriate dtype instead.\n",
      "  elif isinstance(data.columns, (pd.Int64Index, pd.RangeIndex)):\n"
     ]
    },
    {
     "name": "stdout",
     "output_type": "stream",
     "text": [
      "[CV 4/5] END colsample_bytree=0.3, gamma=0.1, learning_rate=0.05, max_depth=8, n_estimators=300;, score=-0.118 total time= 2.5min\n"
     ]
    },
    {
     "name": "stderr",
     "output_type": "stream",
     "text": [
      "/Users/seba/miniforge3/envs/booth-mlearning/lib/python3.9/site-packages/xgboost/data.py:262: FutureWarning: pandas.Int64Index is deprecated and will be removed from pandas in a future version. Use pandas.Index with the appropriate dtype instead.\n",
      "  elif isinstance(data.columns, (pd.Int64Index, pd.RangeIndex)):\n"
     ]
    },
    {
     "name": "stdout",
     "output_type": "stream",
     "text": [
      "[CV 2/5] END colsample_bytree=0.3, gamma=0.1, learning_rate=0.05, max_depth=8, n_estimators=500;, score=-0.109 total time= 3.3min\n",
      "[CV 3/5] END colsample_bytree=0.3, gamma=0.1, learning_rate=0.05, max_depth=8, n_estimators=500;, score=-0.105 total time= 3.3min\n",
      "[CV 5/5] END colsample_bytree=0.3, gamma=0.1, learning_rate=0.05, max_depth=8, n_estimators=500;, score=-0.104 total time= 3.3min\n"
     ]
    },
    {
     "name": "stderr",
     "output_type": "stream",
     "text": [
      "/Users/seba/miniforge3/envs/booth-mlearning/lib/python3.9/site-packages/xgboost/data.py:262: FutureWarning: pandas.Int64Index is deprecated and will be removed from pandas in a future version. Use pandas.Index with the appropriate dtype instead.\n",
      "  elif isinstance(data.columns, (pd.Int64Index, pd.RangeIndex)):\n",
      "/Users/seba/miniforge3/envs/booth-mlearning/lib/python3.9/site-packages/xgboost/data.py:262: FutureWarning: pandas.Int64Index is deprecated and will be removed from pandas in a future version. Use pandas.Index with the appropriate dtype instead.\n",
      "  elif isinstance(data.columns, (pd.Int64Index, pd.RangeIndex)):\n",
      "/Users/seba/miniforge3/envs/booth-mlearning/lib/python3.9/site-packages/xgboost/data.py:262: FutureWarning: pandas.Int64Index is deprecated and will be removed from pandas in a future version. Use pandas.Index with the appropriate dtype instead.\n",
      "  elif isinstance(data.columns, (pd.Int64Index, pd.RangeIndex)):\n"
     ]
    },
    {
     "name": "stdout",
     "output_type": "stream",
     "text": [
      "[CV 1/5] END colsample_bytree=0.3, gamma=0.1, learning_rate=0.05, max_depth=8, n_estimators=500;, score=-0.108 total time= 3.3min\n"
     ]
    },
    {
     "name": "stderr",
     "output_type": "stream",
     "text": [
      "/Users/seba/miniforge3/envs/booth-mlearning/lib/python3.9/site-packages/xgboost/data.py:262: FutureWarning: pandas.Int64Index is deprecated and will be removed from pandas in a future version. Use pandas.Index with the appropriate dtype instead.\n",
      "  elif isinstance(data.columns, (pd.Int64Index, pd.RangeIndex)):\n"
     ]
    },
    {
     "name": "stdout",
     "output_type": "stream",
     "text": [
      "[CV 4/5] END colsample_bytree=0.3, gamma=0.1, learning_rate=0.05, max_depth=8, n_estimators=500;, score=-0.108 total time= 3.3min\n"
     ]
    },
    {
     "name": "stderr",
     "output_type": "stream",
     "text": [
      "/Users/seba/miniforge3/envs/booth-mlearning/lib/python3.9/site-packages/xgboost/data.py:262: FutureWarning: pandas.Int64Index is deprecated and will be removed from pandas in a future version. Use pandas.Index with the appropriate dtype instead.\n",
      "  elif isinstance(data.columns, (pd.Int64Index, pd.RangeIndex)):\n"
     ]
    },
    {
     "name": "stdout",
     "output_type": "stream",
     "text": [
      "[CV 1/5] END colsample_bytree=0.3, gamma=0.1, learning_rate=0.07, max_depth=8, n_estimators=300;, score=-0.115 total time= 1.2min\n",
      "[CV 3/5] END colsample_bytree=0.3, gamma=0.1, learning_rate=0.07, max_depth=8, n_estimators=300;, score=-0.110 total time= 1.2min\n",
      "[CV 2/5] END colsample_bytree=0.3, gamma=0.1, learning_rate=0.07, max_depth=8, n_estimators=300;, score=-0.114 total time= 1.2min\n",
      "[CV 4/5] END colsample_bytree=0.3, gamma=0.1, learning_rate=0.07, max_depth=8, n_estimators=300;, score=-0.116 total time= 1.2min\n",
      "[CV 5/5] END colsample_bytree=0.3, gamma=0.1, learning_rate=0.07, max_depth=8, n_estimators=300;, score=-0.112 total time= 1.2min\n",
      "[CV 1/5] END colsample_bytree=0.3, gamma=0.1, learning_rate=0.07, max_depth=8, n_estimators=500;, score=-0.109 total time= 1.1min\n",
      "[CV 3/5] END colsample_bytree=0.3, gamma=0.1, learning_rate=0.07, max_depth=8, n_estimators=500;, score=-0.105 total time= 1.1min\n",
      "[CV 2/5] END colsample_bytree=0.3, gamma=0.1, learning_rate=0.07, max_depth=8, n_estimators=500;, score=-0.110 total time= 1.1min\n",
      "[CV 5/5] END colsample_bytree=0.3, gamma=0.1, learning_rate=0.07, max_depth=8, n_estimators=500;, score=-0.108 total time= 1.1min\n",
      "[CV 4/5] END colsample_bytree=0.3, gamma=0.1, learning_rate=0.07, max_depth=8, n_estimators=500;, score=-0.111 total time= 1.1min\n"
     ]
    },
    {
     "name": "stderr",
     "output_type": "stream",
     "text": [
      "/Users/seba/miniforge3/envs/booth-mlearning/lib/python3.9/site-packages/xgboost/data.py:262: FutureWarning: pandas.Int64Index is deprecated and will be removed from pandas in a future version. Use pandas.Index with the appropriate dtype instead.\n",
      "  elif isinstance(data.columns, (pd.Int64Index, pd.RangeIndex)):\n"
     ]
    },
    {
     "data": {
      "text/plain": [
       "GridSearchCV(cv=5,\n",
       "             estimator=XGBRegressor(base_score=None, booster=None,\n",
       "                                    colsample_bylevel=None,\n",
       "                                    colsample_bynode=None,\n",
       "                                    colsample_bytree=None,\n",
       "                                    enable_categorical=False, gamma=None,\n",
       "                                    gpu_id=None, importance_type=None,\n",
       "                                    interaction_constraints=None,\n",
       "                                    learning_rate=None, max_delta_step=None,\n",
       "                                    max_depth=None, min_child_weight=None,\n",
       "                                    missing=nan, monotone_constraints=None,\n",
       "                                    n...\n",
       "                                    num_parallel_tree=None, predictor=None,\n",
       "                                    random_state=None, reg_alpha=None,\n",
       "                                    reg_lambda=None, scale_pos_weight=None,\n",
       "                                    seed=1246, subsample=None, tree_method=None,\n",
       "                                    validate_parameters=None, verbosity=None),\n",
       "             n_jobs=-1,\n",
       "             param_grid={'colsample_bytree': [0.3], 'gamma': [0.1],\n",
       "                         'learning_rate': [0.05, 0.07], 'max_depth': [8],\n",
       "                         'n_estimators': [300, 500]},\n",
       "             scoring='neg_mean_squared_error', verbose=5)"
      ]
     },
     "execution_count": 17,
     "metadata": {},
     "output_type": "execute_result"
    }
   ],
   "source": [
    "params = {\n",
    "    'max_depth': [8],\n",
    "    'learning_rate': [0.05, 0.07],\n",
    "    'colsample_bytree': [0.3],\n",
    "    'n_estimators': [300, 500],\n",
    "    'gamma': [0.1],\n",
    "}\n",
    "\n",
    "xgbr = xgb.XGBRegressor(seed = 1246)\n",
    "clf = GridSearchCV(estimator=xgbr, param_grid=params, scoring='neg_mean_squared_error', cv=5, verbose=5, n_jobs=-1)\n",
    "\n",
    "\n",
    "clf.fit(X_train, y_train_log)"
   ]
  },
  {
   "cell_type": "code",
   "execution_count": 92,
   "metadata": {},
   "outputs": [],
   "source": [
    "## saving to not lose on restart of kernel\n",
    "## obtained doing clf.best_params_\n",
    "best_params = {'colsample_bytree': 0.3,\n",
    " 'gamma': 0.1,\n",
    " 'learning_rate': 0.05,\n",
    " 'max_depth': 8,\n",
    " 'n_estimators': 500}"
   ]
  },
  {
   "cell_type": "code",
   "execution_count": 85,
   "metadata": {},
   "outputs": [
    {
     "data": {
      "text/plain": [
       "XGBRegressor(base_score=0.5, booster='gbtree', colsample_bylevel=1,\n",
       "             colsample_bynode=1, colsample_bytree=0.3, enable_categorical=False,\n",
       "             gamma=0.1, gpu_id=-1, importance_type=None,\n",
       "             interaction_constraints='', learning_rate=0.05, max_delta_step=0,\n",
       "             max_depth=8, min_child_weight=1, missing=nan,\n",
       "             monotone_constraints='()', n_estimators=500, n_jobs=10,\n",
       "             num_parallel_tree=1, predictor='auto', random_state=1246,\n",
       "             reg_alpha=0, reg_lambda=1, scale_pos_weight=1, seed=1246,\n",
       "             subsample=1, tree_method='exact', validate_parameters=1,\n",
       "             verbosity=None)"
      ]
     },
     "execution_count": 85,
     "metadata": {},
     "output_type": "execute_result"
    }
   ],
   "source": [
    "xgb2 = xgb.XGBRegressor(seed=1246, **best_params)\n",
    "xgb2.fit(X_train, y_train_log)"
   ]
  },
  {
   "cell_type": "code",
   "execution_count": 103,
   "metadata": {},
   "outputs": [
    {
     "data": {
      "text/html": [
       "<div>\n",
       "<style scoped>\n",
       "    .dataframe tbody tr th:only-of-type {\n",
       "        vertical-align: middle;\n",
       "    }\n",
       "\n",
       "    .dataframe tbody tr th {\n",
       "        vertical-align: top;\n",
       "    }\n",
       "\n",
       "    .dataframe thead th {\n",
       "        text-align: right;\n",
       "    }\n",
       "</style>\n",
       "<table border=\"1\" class=\"dataframe\">\n",
       "  <thead>\n",
       "    <tr style=\"text-align: right;\">\n",
       "      <th></th>\n",
       "      <th>0</th>\n",
       "    </tr>\n",
       "  </thead>\n",
       "  <tbody>\n",
       "    <tr>\n",
       "      <th>season_3</th>\n",
       "      <td>0.150295</td>\n",
       "    </tr>\n",
       "    <tr>\n",
       "      <th>hour weather_1.0</th>\n",
       "      <td>0.036266</td>\n",
       "    </tr>\n",
       "    <tr>\n",
       "      <th>hour</th>\n",
       "      <td>0.035352</td>\n",
       "    </tr>\n",
       "    <tr>\n",
       "      <th>hour year_2012</th>\n",
       "      <td>0.032660</td>\n",
       "    </tr>\n",
       "    <tr>\n",
       "      <th>hour holiday_0</th>\n",
       "      <td>0.031941</td>\n",
       "    </tr>\n",
       "    <tr>\n",
       "      <th>...</th>\n",
       "      <td>...</td>\n",
       "    </tr>\n",
       "    <tr>\n",
       "      <th>month_3 month_9</th>\n",
       "      <td>0.000000</td>\n",
       "    </tr>\n",
       "    <tr>\n",
       "      <th>month_3 month_10</th>\n",
       "      <td>0.000000</td>\n",
       "    </tr>\n",
       "    <tr>\n",
       "      <th>month_3 month_11</th>\n",
       "      <td>0.000000</td>\n",
       "    </tr>\n",
       "    <tr>\n",
       "      <th>month_10 holiday_1</th>\n",
       "      <td>0.000000</td>\n",
       "    </tr>\n",
       "    <tr>\n",
       "      <th>weather_3.0 weather_4.0</th>\n",
       "      <td>0.000000</td>\n",
       "    </tr>\n",
       "  </tbody>\n",
       "</table>\n",
       "<p>780 rows × 1 columns</p>\n",
       "</div>"
      ],
      "text/plain": [
       "                                0\n",
       "season_3                 0.150295\n",
       "hour weather_1.0         0.036266\n",
       "hour                     0.035352\n",
       "hour year_2012           0.032660\n",
       "hour holiday_0           0.031941\n",
       "...                           ...\n",
       "month_3 month_9          0.000000\n",
       "month_3 month_10         0.000000\n",
       "month_3 month_11         0.000000\n",
       "month_10 holiday_1       0.000000\n",
       "weather_3.0 weather_4.0  0.000000\n",
       "\n",
       "[780 rows x 1 columns]"
      ]
     },
     "execution_count": 103,
     "metadata": {},
     "output_type": "execute_result"
    }
   ],
   "source": [
    "pd.DataFrame(xgb2.feature_importances_, index=poly.get_feature_names_out(X_train_dummies.columns)).sort_values(by=0, ascending=False)"
   ]
  },
  {
   "cell_type": "code",
   "execution_count": 87,
   "metadata": {},
   "outputs": [
    {
     "data": {
      "text/plain": [
       "38.09803866944748"
      ]
     },
     "execution_count": 87,
     "metadata": {},
     "output_type": "execute_result"
    }
   ],
   "source": [
    "np.expm1(xgb2.predict(X_val)).round(0)\n",
    "\n",
    "## RMSE\n",
    "np.sqrt(np.mean(np.square(np.expm1(xgb2.predict(X_val)).round(0) - y_val)))"
   ]
  },
  {
   "cell_type": "code",
   "execution_count": 104,
   "metadata": {},
   "outputs": [
    {
     "data": {
      "text/plain": [
       "0.07938316873909343"
      ]
     },
     "execution_count": 104,
     "metadata": {},
     "output_type": "execute_result"
    }
   ],
   "source": [
    "np.mean(np.square(xgb2.predict(X_val) - y_val_log))"
   ]
  },
  {
   "cell_type": "markdown",
   "metadata": {},
   "source": [
    "#### Transform test dataset \n",
    "\n",
    "Here we are applying all the transformations we did on the train data. We are using the same models we built earlier, but we are using the test data."
   ]
  },
  {
   "cell_type": "code",
   "execution_count": 89,
   "metadata": {},
   "outputs": [],
   "source": [
    "\n",
    "\n",
    "bike_test[\"weekday\"] = bike_test.apply(get_weekday, axis=1)\n",
    "\n",
    "## drop day column\n",
    "X_test = bike_test.drop(['day'], axis=1)\n",
    "\n",
    "## dummies\n",
    "X_test_dummies = pd.get_dummies(X_test, columns=[\"year\", \"month\", \"weekday\", \"season\", \"holiday\", \"workingday\", \"weather\"])\n",
    "\n",
    "\n",
    "X_test_dummies.loc[:, [\"temp\", \"atemp\", \"humidity\", \"windspeed\"]] = scaler.transform(\n",
    "    X_test_dummies.loc[:, [\"temp\", \"atemp\", \"humidity\", \"windspeed\"]]\n",
    ")\n",
    "\n",
    "X_test_dummies.rename(columns={'weather_1': 'weather_1.0', 'weather_2': \"weather_2.0\", 'weather_3': \"weather_3.0\", 'weather_4': \"weather_4.0\"}, inplace=True)\n",
    "\n",
    "## interactions\n",
    "X_test_dummies_poly = poly.transform(X_test_dummies)\n"
   ]
  },
  {
   "cell_type": "code",
   "execution_count": 90,
   "metadata": {},
   "outputs": [],
   "source": [
    "y_pred = xgb2.predict(X_test_dummies_poly)\n",
    "y_pred_expm1 = np.expm1(y_pred).round(0).astype(int)\n",
    "\n",
    "pd.DataFrame([list(range(1, y_pred_expm1.shape[0]+1)), y_pred_expm1], index=['Id', 'count']).T.to_csv('submission9.csv', index=False)"
   ]
  }
 ],
 "metadata": {
  "interpreter": {
   "hash": "b6b0d494cab9da2e8d66299537a02ef74e2f5c11a16ccd70fc5d6ac7561203c2"
  },
  "kernelspec": {
   "display_name": "Python 3 (ipykernel)",
   "language": "python",
   "name": "python3"
  },
  "language_info": {
   "codemirror_mode": {
    "name": "ipython",
    "version": 3
   },
   "file_extension": ".py",
   "mimetype": "text/x-python",
   "name": "python",
   "nbconvert_exporter": "python",
   "pygments_lexer": "ipython3",
   "version": "3.9.10"
  }
 },
 "nbformat": 4,
 "nbformat_minor": 2
}
